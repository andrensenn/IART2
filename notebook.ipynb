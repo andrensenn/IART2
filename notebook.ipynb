{
 "cells": [
  {
   "cell_type": "markdown",
   "id": "e9cd5df5",
   "metadata": {},
   "source": [
    "Initial explanation about the project."
   ]
  },
  {
   "cell_type": "markdown",
   "id": "bcc9137d",
   "metadata": {},
   "source": [
    "Since our dataset is already preprocessed we can just simply import the desired tools and load the data."
   ]
  },
  {
   "cell_type": "code",
   "execution_count": 148,
   "id": "78e5121b",
   "metadata": {},
   "outputs": [],
   "source": [
    "import pandas as pd\n",
    "import time\n",
    "from sklearn.model_selection import train_test_split\n",
    "from sklearn.tree import DecisionTreeClassifier\n",
    "import sklearn as skl\n",
    "import matplotlib.pyplot as plt\n",
    "from sklearn.preprocessing import LabelEncoder \n",
    "from imblearn.over_sampling import SMOTE\n",
    "\n",
    "\n",
    "dataframe = pd.read_csv('data.csv')\n",
    "\n",
    "dropout_cnt = dataframe['Target'].value_counts().get('Dropout', 0)\n",
    "enrolled_cnt = dataframe['Target'].value_counts().get('Enrolled', 0)\n",
    "graduate_cnt = dataframe['Target'].value_counts().get('Graduate', 0)\n",
    "total_cnt = graduate_cnt + enrolled_cnt + dropout_cnt\n",
    "\n"
   ]
  },
  {
   "cell_type": "markdown",
   "id": "7ebb7a0a",
   "metadata": {},
   "source": [
    "Now we set our X and Y axis."
   ]
  },
  {
   "cell_type": "code",
   "execution_count": 149,
   "id": "c9e0da8b",
   "metadata": {},
   "outputs": [],
   "source": [
    "x_axis = dataframe.drop('Target', axis=1)\n",
    "y_axis = dataframe['Target']"
   ]
  },
  {
   "cell_type": "markdown",
   "id": "729f7d55",
   "metadata": {},
   "source": [
    "Now we split our data between training and testing."
   ]
  },
  {
   "cell_type": "code",
   "execution_count": 150,
   "id": "702629cb",
   "metadata": {},
   "outputs": [],
   "source": [
    "x_train, x_test, y_train, y_test = train_test_split(x_axis, y_axis, test_size=0.2, random_state=40)\n",
    "\n",
    "le = LabelEncoder()\n",
    "y_train_encoded = le.fit_transform(y_train)\n",
    "y_test_encoded = le.fit_transform(y_test)\n",
    "\n",
    "from imblearn.over_sampling import SMOTE\n",
    "\n",
    "smote = SMOTE(random_state=40)\n",
    "x_train_resampled, y_train_resampled = smote.fit_resample(x_train, y_train_encoded)"
   ]
  },
  {
   "cell_type": "markdown",
   "id": "cc7b3a76",
   "metadata": {},
   "source": [
    "The next step is to train our model."
   ]
  },
  {
   "cell_type": "code",
   "execution_count": 151,
   "id": "4a11855d",
   "metadata": {},
   "outputs": [],
   "source": [
    "\n",
    "\n",
    "target_weights = {\n",
    "# Dropout = 0\n",
    "    0 : (total_cnt/(3*dropout_cnt)),\n",
    "# Enrolled = 1\n",
    "    1 : (total_cnt/(3*enrolled_cnt)),\n",
    "# Graduate = 2\n",
    "    2 : (total_cnt/(3*graduate_cnt))\n",
    "}\n",
    "\n",
    "start_train = time.time()\n",
    "clf = DecisionTreeClassifier(class_weight=target_weights,random_state=40)\n",
    "clf.fit(x_train_resampled, y_train_resampled)\n",
    "end_train = time.time()"
   ]
  },
  {
   "cell_type": "markdown",
   "id": "316e17e5",
   "metadata": {},
   "source": [
    "We test our Decision Tree with the X axis test data."
   ]
  },
  {
   "cell_type": "code",
   "execution_count": 152,
   "id": "6753eeef",
   "metadata": {},
   "outputs": [],
   "source": [
    "start_test = time.time()\n",
    "y_pred = clf.predict(x_test)\n",
    "end_test = time.time()"
   ]
  },
  {
   "cell_type": "markdown",
   "id": "33077257",
   "metadata": {},
   "source": [
    "Finally we check wether our Decision Tree was sucessful or not and categorize it in several metrics."
   ]
  },
  {
   "cell_type": "code",
   "execution_count": 153,
   "id": "36ab87fe",
   "metadata": {},
   "outputs": [
    {
     "name": "stdout",
     "output_type": "stream",
     "text": [
      "Acuracy: 0.6746\n",
      "Precision: 0.6873\n",
      "Recall: 0.6746\n",
      "F1-Score: 0.6800\n",
      "Confusion Matrix:\n",
      "\n",
      "\n",
      "Classification Report:\n",
      "\n",
      "              precision    recall  f1-score   support\n",
      "\n",
      "           0       0.73      0.70      0.71       287\n",
      "           1       0.40      0.48      0.44       169\n",
      "           2       0.77      0.74      0.75       429\n",
      "\n",
      "    accuracy                           0.67       885\n",
      "   macro avg       0.63      0.64      0.63       885\n",
      "weighted avg       0.69      0.67      0.68       885\n",
      "\n",
      "Training time: 0.1439 seconds\n",
      "Testing time: 0.0030 seconds\n"
     ]
    },
    {
     "data": {
      "image/png": "[encoded data removed]",
      "text/plain": [
       "<Figure size 640x480 with 2 Axes>"
      ]
     },
     "metadata": {},
     "output_type": "display_data"
    }
   ],
   "source": [
    "accuracy = skl.metrics.accuracy_score(y_test_encoded, y_pred)\n",
    "precision = skl.metrics.precision_score(y_test_encoded, y_pred, average=\"weighted\", zero_division=0)\n",
    "recal = skl.metrics.recall_score(y_test_encoded, y_pred, average=\"weighted\", zero_division=0)\n",
    "f1_score = skl.metrics.f1_score(y_test_encoded, y_pred, average=\"weighted\", zero_division=0)\n",
    "confusion_matrix = skl.metrics.confusion_matrix(y_test_encoded,y_pred)\n",
    "\n",
    "\n",
    "print(f\"Acuracy: {accuracy:.4f}\")\n",
    "print(f\"Precision: {precision:.4f}\")\n",
    "print(f\"Recall: {recal:.4f}\")\n",
    "print(f\"F1-Score: {f1_score:.4f}\")\n",
    "labels = ['Dropout', 'Enrolled', 'Graduate']\n",
    "print(\"Confusion Matrix:\\n\")\n",
    "skl.metrics.ConfusionMatrixDisplay(confusion_matrix=confusion_matrix, display_labels=labels).plot()\n",
    "print(\"\\nClassification Report:\\n\")\n",
    "print(skl.metrics.classification_report(y_test_encoded,y_pred, zero_division=0))\n",
    "print(f\"Training time: {end_train-start_train:.4f} seconds\")\n",
    "print(f\"Testing time: {end_test-start_test:.4f} seconds\")\n",
    "\n"
   ]
  },
  {
   "cell_type": "markdown",
   "id": "70372717",
   "metadata": {},
   "source": [
    "Here's the visual representation of the Decision Tree."
   ]
  },
  {
   "cell_type": "code",
   "execution_count": 154,
   "id": "3ddfb13d",
   "metadata": {},
   "outputs": [],
   "source": [
    "# plt.figure(figsize=(16,10))\n",
    "# skl.tree.plot_tree(clf, filled=True, feature_names=x_axis.columns, class_names=True)\n",
    "# plt.title(\"Decision Tree Visualization\")\n",
    "# plt.show()"
   ]
  }
 ],
 "metadata": {
  "kernelspec": {
   "display_name": "Python 3",
   "language": "python",
   "name": "python3"
  },
  "language_info": {
   "codemirror_mode": {
    "name": "ipython",
    "version": 3
   },
   "file_extension": ".py",
   "mimetype": "text/x-python",
   "name": "python",
   "nbconvert_exporter": "python",
   "pygments_lexer": "ipython3",
   "version": "3.13.2"
  }
 },
 "nbformat": 4,
 "nbformat_minor": 5
}
